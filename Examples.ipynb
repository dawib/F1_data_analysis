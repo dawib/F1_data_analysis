{
 "cells": [
  {
   "cell_type": "code",
   "execution_count": 1,
   "id": "c4836984",
   "metadata": {},
   "outputs": [],
   "source": [
    "#import a library used to analyse formula1 results\n",
    "from f1analiser import *"
   ]
  },
  {
   "cell_type": "code",
   "execution_count": 4,
   "id": "240cce41",
   "metadata": {},
   "outputs": [
    {
     "name": "stdout",
     "output_type": "stream",
     "text": [
      "Year 2016 is loaded\n",
      "Year 2017 is loaded\n",
      "Year 2018 is loaded\n",
      "Year 2019 is loaded\n",
      "Year 2020 is loaded\n",
      "Year 2021 is loaded\n"
     ]
    }
   ],
   "source": [
    "#download a data from formula1.com\n",
    "years = [2016,2017,2018,2019,2020,2021]\n",
    "data = get_data(years,verbose=1)"
   ]
  },
  {
   "cell_type": "code",
   "execution_count": 5,
   "id": "73d648d1",
   "metadata": {},
   "outputs": [],
   "source": [
    "#and save it to a file\n",
    "data.to_csv('data_16-21.csv', encoding='utf-8')"
   ]
  },
  {
   "cell_type": "code",
   "execution_count": 6,
   "id": "eff59bbb",
   "metadata": {},
   "outputs": [],
   "source": [
    "#or load it from a file\n",
    "data = pd.read_csv('data_16-21.csv', encoding='utf-8')\n",
    "data = data.drop(\"Unnamed: 0\",axis=1)"
   ]
  },
  {
   "cell_type": "code",
   "execution_count": 7,
   "id": "cfdb34f7",
   "metadata": {},
   "outputs": [
    {
     "data": {
      "text/html": [
       "<div>\n",
       "<style scoped>\n",
       "    .dataframe tbody tr th:only-of-type {\n",
       "        vertical-align: middle;\n",
       "    }\n",
       "\n",
       "    .dataframe tbody tr th {\n",
       "        vertical-align: top;\n",
       "    }\n",
       "\n",
       "    .dataframe thead th {\n",
       "        text-align: right;\n",
       "    }\n",
       "</style>\n",
       "<table border=\"1\" class=\"dataframe\">\n",
       "  <thead>\n",
       "    <tr style=\"text-align: right;\">\n",
       "      <th></th>\n",
       "      <th>driver</th>\n",
       "      <th>year</th>\n",
       "      <th>GP</th>\n",
       "      <th>fp1</th>\n",
       "      <th>fp1+</th>\n",
       "      <th>fp2</th>\n",
       "      <th>fp2+</th>\n",
       "      <th>fp3</th>\n",
       "      <th>fp3+</th>\n",
       "      <th>q1</th>\n",
       "      <th>q1+</th>\n",
       "      <th>q2</th>\n",
       "      <th>q2+</th>\n",
       "      <th>q3</th>\n",
       "      <th>q3+</th>\n",
       "      <th>r</th>\n",
       "    </tr>\n",
       "  </thead>\n",
       "  <tbody>\n",
       "    <tr>\n",
       "      <th>0</th>\n",
       "      <td>Rosberg</td>\n",
       "      <td>2016</td>\n",
       "      <td>Australia</td>\n",
       "      <td>91.814</td>\n",
       "      <td>2.089</td>\n",
       "      <td>107.356</td>\n",
       "      <td>8.515</td>\n",
       "      <td>85.800</td>\n",
       "      <td>0.176</td>\n",
       "      <td>86.934</td>\n",
       "      <td>1.583</td>\n",
       "      <td>84.796</td>\n",
       "      <td>0.191</td>\n",
       "      <td>84.197</td>\n",
       "      <td>0.360</td>\n",
       "      <td>1.0</td>\n",
       "    </tr>\n",
       "    <tr>\n",
       "      <th>1</th>\n",
       "      <td>Hamilton</td>\n",
       "      <td>2016</td>\n",
       "      <td>Australia</td>\n",
       "      <td>89.725</td>\n",
       "      <td>0.000</td>\n",
       "      <td>98.841</td>\n",
       "      <td>0.000</td>\n",
       "      <td>85.624</td>\n",
       "      <td>0.000</td>\n",
       "      <td>85.351</td>\n",
       "      <td>0.000</td>\n",
       "      <td>84.605</td>\n",
       "      <td>0.000</td>\n",
       "      <td>83.837</td>\n",
       "      <td>0.000</td>\n",
       "      <td>2.0</td>\n",
       "    </tr>\n",
       "    <tr>\n",
       "      <th>2</th>\n",
       "      <td>Ricciardo</td>\n",
       "      <td>2016</td>\n",
       "      <td>Australia</td>\n",
       "      <td>90.875</td>\n",
       "      <td>1.150</td>\n",
       "      <td>99.535</td>\n",
       "      <td>0.694</td>\n",
       "      <td>86.768</td>\n",
       "      <td>1.144</td>\n",
       "      <td>86.945</td>\n",
       "      <td>1.594</td>\n",
       "      <td>85.599</td>\n",
       "      <td>0.994</td>\n",
       "      <td>85.589</td>\n",
       "      <td>1.752</td>\n",
       "      <td>4.0</td>\n",
       "    </tr>\n",
       "    <tr>\n",
       "      <th>3</th>\n",
       "      <td>Vettel</td>\n",
       "      <td>2016</td>\n",
       "      <td>Australia</td>\n",
       "      <td>NaN</td>\n",
       "      <td>NaN</td>\n",
       "      <td>100.761</td>\n",
       "      <td>1.920</td>\n",
       "      <td>85.852</td>\n",
       "      <td>0.228</td>\n",
       "      <td>86.945</td>\n",
       "      <td>1.594</td>\n",
       "      <td>85.257</td>\n",
       "      <td>0.652</td>\n",
       "      <td>84.675</td>\n",
       "      <td>0.838</td>\n",
       "      <td>3.0</td>\n",
       "    </tr>\n",
       "    <tr>\n",
       "      <th>4</th>\n",
       "      <td>Verstappen</td>\n",
       "      <td>2016</td>\n",
       "      <td>Australia</td>\n",
       "      <td>91.720</td>\n",
       "      <td>1.995</td>\n",
       "      <td>NaN</td>\n",
       "      <td>NaN</td>\n",
       "      <td>86.701</td>\n",
       "      <td>1.077</td>\n",
       "      <td>86.934</td>\n",
       "      <td>1.583</td>\n",
       "      <td>85.615</td>\n",
       "      <td>1.010</td>\n",
       "      <td>85.434</td>\n",
       "      <td>1.597</td>\n",
       "      <td>10.0</td>\n",
       "    </tr>\n",
       "  </tbody>\n",
       "</table>\n",
       "</div>"
      ],
      "text/plain": [
       "       driver  year         GP     fp1   fp1+      fp2   fp2+     fp3   fp3+  \\\n",
       "0     Rosberg  2016  Australia  91.814  2.089  107.356  8.515  85.800  0.176   \n",
       "1    Hamilton  2016  Australia  89.725  0.000   98.841  0.000  85.624  0.000   \n",
       "2   Ricciardo  2016  Australia  90.875  1.150   99.535  0.694  86.768  1.144   \n",
       "3      Vettel  2016  Australia     NaN    NaN  100.761  1.920  85.852  0.228   \n",
       "4  Verstappen  2016  Australia  91.720  1.995      NaN    NaN  86.701  1.077   \n",
       "\n",
       "       q1    q1+      q2    q2+      q3    q3+     r  \n",
       "0  86.934  1.583  84.796  0.191  84.197  0.360   1.0  \n",
       "1  85.351  0.000  84.605  0.000  83.837  0.000   2.0  \n",
       "2  86.945  1.594  85.599  0.994  85.589  1.752   4.0  \n",
       "3  86.945  1.594  85.257  0.652  84.675  0.838   3.0  \n",
       "4  86.934  1.583  85.615  1.010  85.434  1.597  10.0  "
      ]
     },
     "execution_count": 7,
     "metadata": {},
     "output_type": "execute_result"
    }
   ],
   "source": [
    "data.head()"
   ]
  },
  {
   "cell_type": "code",
   "execution_count": 18,
   "id": "f272d3e8",
   "metadata": {},
   "outputs": [
    {
     "name": "stdout",
     "output_type": "stream",
     "text": [
      "0.9817290704673475\n",
      "[-0.55886913 -1.16330757 -1.42223721] [[0.18951718 0.07090261 0.73789346]\n",
      " [0.20549866 0.16950663 0.62134038]\n",
      " [0.18686264 0.17361542 0.6393271 ]]\n"
     ]
    }
   ],
   "source": [
    "#train linear regression estimating qualification times based on practice times\n",
    "XY = pd.DataFrame(data, columns=['fp1','fp2','fp3','q1','q2','q3']).dropna()\n",
    "X = pd.DataFrame(XY, columns=['fp1','fp2','fp3']).to_numpy()\n",
    "Y = pd.DataFrame(XY, columns=['q1','q2','q3']).to_numpy()\n",
    "\n",
    "model = LinearRegression().fit(X,Y)\n",
    "print(model.score(X,Y))\n",
    "print(model.intercept_,model.coef_)"
   ]
  },
  {
   "cell_type": "code",
   "execution_count": 72,
   "id": "f3f1baea",
   "metadata": {},
   "outputs": [
    {
     "data": {
      "image/png": "[encoded data removed]",
      "text/plain": [
       "<Figure size 432x288 with 1 Axes>"
      ]
     },
     "metadata": {
      "needs_background": "light"
     },
     "output_type": "display_data"
    },
    {
     "name": "stdout",
     "output_type": "stream",
     "text": [
      "[0.2930862235134988, 0.3918922907798366, 0.434454161110574, 0.44583700560447853, 0.4745386819961733, 0.48117245013427506, 0.45879408484635403]\n",
      "[0, 0, 0, 0, 0, 0, 0]\n"
     ]
    }
   ],
   "source": [
    "#train linear regression estimating qualification losses based on practice losses\n",
    "XY = pd.DataFrame(data, columns=['fp1+','fp2+','fp3+','q1+','q2+','q3+']).dropna()\n",
    "X = pd.DataFrame(XY, columns=['fp1+','fp2+','fp3+']).to_numpy()\n",
    "Y = pd.DataFrame(XY, columns=['q1+','q2+','q3+']).to_numpy()\n",
    "\n",
    "from sklearn.preprocessing import PolynomialFeatures\n",
    "from sklearn.model_selection import train_test_split\n",
    "\n",
    "trScores = []\n",
    "tstScores = []\n",
    "for j in range(7):\n",
    "    poly = PolynomialFeatures(j+1)\n",
    "    polyX = poly.fit_transform(X)\n",
    "    trS = 0\n",
    "    tstS = 0\n",
    "    for k in range(100):\n",
    "        X_train, X_test, Y_train, Y_test = train_test_split(polyX,Y,test_size=20)\n",
    "        model = LinearRegression().fit(X_train,Y_train)\n",
    "        \n",
    "        trS+= model.score(X_train,Y_train)\n",
    "        tstS+= model.score(X_test,Y_test)\n",
    "    \n",
    "    trScores.append(max([trS/100,0]))\n",
    "    tstScores.append(max([tstS/100,0]))\n",
    "    \n",
    "    \n",
    "import matplotlib.pyplot as plt\n",
    "\n",
    "plt.plot(trScores,c='blue')\n",
    "plt.plot(tstScores,c='red')\n",
    "                     \n",
    "plt.show()\n",
    "print(trScores)\n",
    "print(tstScores)"
   ]
  }
 ],
 "metadata": {
  "kernelspec": {
   "display_name": "Python 3",
   "language": "python",
   "name": "python3"
  },
  "language_info": {
   "codemirror_mode": {
    "name": "ipython",
    "version": 3
   },
   "file_extension": ".py",
   "mimetype": "text/x-python",
   "name": "python",
   "nbconvert_exporter": "python",
   "pygments_lexer": "ipython3",
   "version": "3.8.8"
  }
 },
 "nbformat": 4,
 "nbformat_minor": 5
}
